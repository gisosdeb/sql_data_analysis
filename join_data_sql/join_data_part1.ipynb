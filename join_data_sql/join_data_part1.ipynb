{
 "cells": [
  {
   "cell_type": "markdown",
   "metadata": {},
   "source": [
    "Antes de comenzar es necesario realizar la carga de los datos con los cuales trabajaremos. Para ello es necesario crear un nuevo esquema dentro de la base de datos `test` construida anteriormente.\n",
    "\n",
    "En esta ocasión el esquema lo construiremos desde la terminal con los comandos de `psql`. Nos dirigimos a nuestra terminal desde cualquier parte de nuestros directorios y ejecutamos la siguiente línea:\n",
    "```sql\n",
    "psql test test -c 'CREATE SCHEMA joindata_sql'\n",
    "```\n",
    "Una vez creado el esquema podremos pasar todos los archivos `.csv` de las carpetas **countries2, diagramas, leaders2**. Para ello necesitamos dirigirnos a cada una de las carpetas y modificar el archivo `.sql` respectivamente, el cual contiene las instrucciones para cargar los datos a la base destino, pero no al esquema.\n",
    "\n",
    "Como en el ejercicio anterior; una vez ingresado al archivo `.sql` necesitamos editarlo, pero a diferencia del caso anterior ahora no solamente necesitamos agregar el esquema, si no todas las sigueintes líneas:\n",
    "```sql\n",
    "--\n",
    "-- PostgreSQL database dump\n",
    "--\n",
    "\n",
    "-- Dumped from database version 9.6.3\n",
    "-- Dumped by pg_dump version 9.6.3\n",
    "\n",
    "SET statement_timeout = 0;\n",
    "SET lock_timeout = 0;\n",
    "SET idle_in_transaction_session_timeout = 0;\n",
    "SET client_encoding = 'UTF8';\n",
    "SET standard_conforming_strings = on;\n",
    "SET check_function_bodies = false;\n",
    "SET client_min_messages = warning;\n",
    "SET row_security = off;\n",
    "\n",
    "CREATE EXTENSION IF NOT EXISTS plpgsql WITH SCHEMA pg_catalog;\n",
    "\n",
    "\n",
    "--\n",
    "-- Name: EXTENSION plpgsql; Type: COMMENT; Schema: -; Owner:\n",
    "--\n",
    "\n",
    "COMMENT ON EXTENSION plpgsql IS 'PL/pgSQL procedural language';\n",
    "\n",
    "\n",
    "SET search_path = datajoin_sql, pg_catalog;\n",
    "\n",
    "SET default_tablespace = '';\n",
    "```\n",
    "Es necesario observar que en la línea `SET search_path = datajoin_sql, pg_catalog;` ahora el esquema es `datajoin_sql`.\n",
    "\n",
    "-- Copy over data from CSVs\n",
    "\\copy presidents FROM 'data/leaders/presidents.csv' DELIMITER ',' CSV HEADER;\n",
    "\\copy prime_ministers FROM 'data/leaders/prime_ministers.csv' DELIMITER ',' CSV HEADER;\n",
    "\\copy states FROM 'data/leaders/states.csv' DELIMITER ',' CSV HEADER;\n",
    "\\copy monarchs FROM 'data/leaders/monarchs.csv' DELIMITER ',' CSV HEADER;\n",
    "\n",
    "-- Copy over data from CSVs\n",
    "\\copy presidents FROM 'presidents.csv' DELIMITER ',' CSV HEADER;\n",
    "\\copy prime_ministers FROM 'prime_ministers.csv' DELIMITER ',' CSV HEADER;\n",
    "\\copy states FROM 'states.csv' DELIMITER ',' CSV HEADER;\n",
    "\\copy monarchs FROM 'monarchs.csv' DELIMITER ',' CSV HEADER;"
   ]
  }
 ],
 "metadata": {
  "kernelspec": {
   "display_name": "Python 3",
   "language": "python",
   "name": "python3"
  },
  "language_info": {
   "codemirror_mode": {
    "name": "ipython",
    "version": 3
   },
   "file_extension": ".py",
   "mimetype": "text/x-python",
   "name": "python",
   "nbconvert_exporter": "python",
   "pygments_lexer": "ipython3",
   "version": "3.7.3"
  }
 },
 "nbformat": 4,
 "nbformat_minor": 4
}
